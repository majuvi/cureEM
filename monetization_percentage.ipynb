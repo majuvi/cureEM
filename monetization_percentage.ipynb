{
 "cells": [
  {
   "cell_type": "markdown",
   "metadata": {},
   "source": [
    "# Monetization percentage\n",
    "<i>Authors:  Markus Viljanen, Riikka Numminen </i>"
   ]
  },
  {
   "cell_type": "markdown",
   "metadata": {},
   "source": [
    "## Motivation"
   ]
  },
  {
   "cell_type": "markdown",
   "metadata": {},
   "source": [
    "Most games today are free-to-play (F2P) and the model also produces the largest share of gaming revenues. Game developers make money from advertisements, premium upgrades, and in-app purchases. Instead of getting players to buy a game, the challenge today is to get players buy *in* a game. For this reason, the industry considers it very important to understand how many players buy in a game, what factors influence their purchases, and how they can be brought to buy more. Game analytics is a field that analyzes player data, and understanding 'monetization' is one of its key goals.\n",
    "\n",
    "Player purchase data can be divided into a spectrum between two extremes:\n",
    "1. Extensive historical game data spanning perhaps years (labelled).\n",
    "2. A completely new game data set with short follow-ups (unlabelled).\n",
    "\n",
    "The data of type 1. can be used to train supervised machine learning models, because it is known which users have made purchases. In general, the predictions of the model can be generalized only to the same game. This setting is well-suited for academic research, because we can wait to gather historical data sets and see how well different models are able to predict.\n",
    "\n",
    "The data of type 2. is semi-supervised because we have observed only some of the players make purchases and the correct answers are not known for most players. When game developers want to test an in-development game or are planning a game launch, they want to use game analytics to see if the game is expected to be profitable. This setting is probably more common and relevant in the industry.\n",
    "\n",
    "\n",
    "In this notebook, our aim is to predict the following monetization metrics in unlabelled data sets:\n",
    "* monetization percentage: the percentage of players that purchase something\n",
    "* monetization rate: the rate at which players convert into monetizing players\n"
   ]
  },
  {
   "cell_type": "markdown",
   "metadata": {},
   "source": [
    "## Imports"
   ]
  },
  {
   "cell_type": "code",
   "execution_count": 1,
   "metadata": {},
   "outputs": [
    {
     "name": "stderr",
     "output_type": "stream",
     "text": [
      "Loading required package: reshape\n",
      "Warning message:\n",
      "\"package 'reshape' was built under R version 3.6.3\"Loading required package: ggplot2\n",
      "Registered S3 methods overwritten by 'ggplot2':\n",
      "  method         from \n",
      "  [.quosures     rlang\n",
      "  c.quosures     rlang\n",
      "  print.quosures rlang\n"
     ]
    }
   ],
   "source": [
    "require(ggplot2)\n",
    "options(repr.plot.width=6, repr.plot.height=3)"
   ]
  },
  {
   "cell_type": "markdown",
   "metadata": {},
   "source": [
    "## Data visualization"
   ]
  },
  {
   "cell_type": "markdown",
   "metadata": {},
   "source": [
    "We now visualize the problem with some generated data. The following functions can be used to generate, censor and visualize a  monetization data set:\n"
   ]
  },
  {
   "cell_type": "code",
   "execution_count": 2,
   "metadata": {},
   "outputs": [],
   "source": [
    "testdata_generate <- function(n=100, cure_fraction=0.95, rate=1.00, start_max=0) {\n",
    "  time_start <- runif(n, 0, start_max)\n",
    "  cured <- rbinom(n, 1, cure_fraction)\n",
    "  times <- ifelse(cured, NA, rexp(n, rate))\n",
    "  testdata <- data.frame(sample = 1:length(times), cured = cured, \n",
    "                          time_start=time_start, time_purchase=time_start+times)\n",
    "  return(testdata)\n",
    "}\n",
    "\n",
    "testdata_censor <- function (data, time_end=1.00) {\n",
    "  data$time_end <- ifelse(data$time_start > time_end, data$time_start, time_end)\n",
    "  data$followup <- data$time_end - data$time_start\n",
    "  \n",
    "  data$time_purchase <- ifelse(data$time_purchase > time_end, NA, data$time_purchase)\n",
    "  data$time <- data$time_purchase - data$time_start\n",
    "  data$censored <- ifelse(is.na(data$time_purchase), 1, 0)\n",
    "  \n",
    "  return (data)\n",
    "}\n",
    "\n",
    "testdata_plot <- function (data, calendar_time=T) {\n",
    "  data$time_purchase <- ifelse(is.na(data$time_purchase), data$time_end, data$time_purchase)\n",
    "  data$time <- ifelse(is.na(data$time), data$followup, data$time)\n",
    "  data <- data[with(data, order(time_start, -cured, -time)),]\n",
    "  data$sample <- 1:nrow(data)\n",
    "  if (calendar_time) {\n",
    "    bp <- ggplot(data) +\n",
    "      geom_segment(aes(y=sample, yend=sample, x=time_start, xend=time_purchase, \n",
    "                       col=as.factor(cured), linetype = as.factor(cured))) +\n",
    "      geom_point(aes(y=sample, x=time_purchase, col=as.factor(cured), shape=as.factor(censored))) +\n",
    "      scale_shape_manual(values=c(16, 124)) +\n",
    "      labs(x = \"Calendar time\", y = \"Sample\", shape = \"Censored indicator\", \n",
    "           linetype = \"Cured indicator\", colour = \"Cured indicator\") + \n",
    "      guides(color=guide_legend(override.aes=list(shape=\"\")))\n",
    "    return(bp)\n",
    "  } else {\n",
    "    bp <- ggplot(data) +\n",
    "      geom_segment(aes(y=sample, yend=sample, x=0, xend=time, col=as.factor(cured), linetype = as.factor(cured))) +\n",
    "      geom_point(aes(y=sample, x=time, col=as.factor(cured), shape=as.factor(censored))) +\n",
    "      scale_shape_manual(values=c(16, 124)) +\n",
    "      labs(x = \"Follow-up time\", y = \"Sample\", shape = \"Censored indicator\", \n",
    "           linetype = \"Cured indicator\", colour = \"Cured indicator\") + \n",
    "      guides(color=guide_legend(override.aes=list(shape=\"\")))\n",
    "    print(bp)\n",
    "    \n",
    "  }\n",
    "  \n",
    "}"
   ]
  },
  {
   "cell_type": "markdown",
   "metadata": {},
   "source": [
    "Lets generate some data. We specify that we want 100 players that start between time points (0, 1] and the collection is at time point 1: "
   ]
  },
  {
   "cell_type": "code",
   "execution_count": 3,
   "metadata": {},
   "outputs": [],
   "source": [
    "data <- testdata_generate(n=100, start_max=1)\n",
    "data <- testdata_censor(data, time_end=1)\n",
    "data$time <- ifelse(is.na(data$time), data$followup, data$time)"
   ]
  },
  {
   "cell_type": "markdown",
   "metadata": {},
   "source": [
    "The data set has three variables: \n",
    "1. 'time' is the purchase time or end of follow-up time\n",
    "2. 'cured' means whether a player will eventually purchase (0) or not (1)\n",
    "3. 'censored' means whether the 'time' was a purchase (0) or follow-up (1)\n",
    "\n",
    "We explain the reason for the 'Cured' terminology later. "
   ]
  },
  {
   "cell_type": "code",
   "execution_count": 4,
   "metadata": {},
   "outputs": [
    {
     "data": {
      "text/html": [
       "<table>\n",
       "<thead><tr><th scope=col>time</th><th scope=col>cured</th><th scope=col>censored</th></tr></thead>\n",
       "<tbody>\n",
       "\t<tr><td>0.94158268</td><td>1         </td><td>1         </td></tr>\n",
       "\t<tr><td>0.50420485</td><td>1         </td><td>1         </td></tr>\n",
       "\t<tr><td>0.77326461</td><td>0         </td><td>1         </td></tr>\n",
       "\t<tr><td>0.08205001</td><td>1         </td><td>1         </td></tr>\n",
       "\t<tr><td>0.34443002</td><td>1         </td><td>1         </td></tr>\n",
       "\t<tr><td>0.79988675</td><td>1         </td><td>1         </td></tr>\n",
       "</tbody>\n",
       "</table>\n"
      ],
      "text/latex": [
       "\\begin{tabular}{r|lll}\n",
       " time & cured & censored\\\\\n",
       "\\hline\n",
       "\t 0.94158268 & 1          & 1         \\\\\n",
       "\t 0.50420485 & 1          & 1         \\\\\n",
       "\t 0.77326461 & 0          & 1         \\\\\n",
       "\t 0.08205001 & 1          & 1         \\\\\n",
       "\t 0.34443002 & 1          & 1         \\\\\n",
       "\t 0.79988675 & 1          & 1         \\\\\n",
       "\\end{tabular}\n"
      ],
      "text/markdown": [
       "\n",
       "| time | cured | censored |\n",
       "|---|---|---|\n",
       "| 0.94158268 | 1          | 1          |\n",
       "| 0.50420485 | 1          | 1          |\n",
       "| 0.77326461 | 0          | 1          |\n",
       "| 0.08205001 | 1          | 1          |\n",
       "| 0.34443002 | 1          | 1          |\n",
       "| 0.79988675 | 1          | 1          |\n",
       "\n"
      ],
      "text/plain": [
       "  time       cured censored\n",
       "1 0.94158268 1     1       \n",
       "2 0.50420485 1     1       \n",
       "3 0.77326461 0     1       \n",
       "4 0.08205001 1     1       \n",
       "5 0.34443002 1     1       \n",
       "6 0.79988675 1     1       "
      ]
     },
     "metadata": {},
     "output_type": "display_data"
    }
   ],
   "source": [
    "head(data[,c('time', 'cured', 'censored')])"
   ]
  },
  {
   "cell_type": "markdown",
   "metadata": {},
   "source": [
    "We see that the data set consists of only 2 players that has made a purchase during follow-up, but eventually a total 5 players will make a purchase:"
   ]
  },
  {
   "cell_type": "code",
   "execution_count": 6,
   "metadata": {},
   "outputs": [
    {
     "data": {
      "text/html": [
       "<table>\n",
       "<thead><tr><th></th><th scope=col>0</th><th scope=col>1</th><th scope=col>Sum</th></tr></thead>\n",
       "<tbody>\n",
       "\t<tr><th scope=row>0</th><td>2  </td><td> 3 </td><td>  5</td></tr>\n",
       "\t<tr><th scope=row>1</th><td>0  </td><td>95 </td><td> 95</td></tr>\n",
       "\t<tr><th scope=row>Sum</th><td>2  </td><td>98 </td><td>100</td></tr>\n",
       "</tbody>\n",
       "</table>\n"
      ],
      "text/latex": [
       "\\begin{tabular}{r|lll}\n",
       "  & 0 & 1 & Sum\\\\\n",
       "\\hline\n",
       "\t0 & 2   &  3  &   5\\\\\n",
       "\t1 & 0   & 95  &  95\\\\\n",
       "\tSum & 2   & 98  & 100\\\\\n",
       "\\end{tabular}\n"
      ],
      "text/markdown": [
       "\n",
       "| <!--/--> | 0 | 1 | Sum |\n",
       "|---|---|---|---|\n",
       "| 0 | 2   |  3  |   5 |\n",
       "| 1 | 0   | 95  |  95 |\n",
       "| Sum | 2   | 98  | 100 |\n",
       "\n"
      ],
      "text/plain": [
       "     censored\n",
       "cured 0 1  Sum\n",
       "  0   2  3   5\n",
       "  1   0 95  95\n",
       "  Sum 2 98 100"
      ]
     },
     "metadata": {},
     "output_type": "display_data"
    }
   ],
   "source": [
    "addmargins(table(data[c('cured', 'censored')]))"
   ]
  },
  {
   "cell_type": "markdown",
   "metadata": {},
   "source": [
    "### Calendar time"
   ]
  },
  {
   "cell_type": "markdown",
   "metadata": {},
   "source": [
    "It is probably easiest to understand the data set by plotting it. The data looks like this:"
   ]
  },
  {
   "cell_type": "code",
   "execution_count": 7,
   "metadata": {},
   "outputs": [
    {
     "data": {
      "image/png": "[encoded data removed]",
      "text/plain": [
       "plot without title"
      ]
     },
     "metadata": {},
     "output_type": "display_data"
    }
   ],
   "source": [
    "testdata_plot(data, calendar_time=T)"
   ]
  },
  {
   "cell_type": "markdown",
   "metadata": {},
   "source": [
    "### Follow-up time"
   ]
  },
  {
   "cell_type": "markdown",
   "metadata": {},
   "source": [
    "However, to understand how many players monetize we want to think of the data set in terms of the follow-up time, which looks like this:"
   ]
  },
  {
   "cell_type": "code",
   "execution_count": 8,
   "metadata": {},
   "outputs": [
    {
     "data": {
      "image/png": "[encoded data removed]",
      "text/plain": [
       "plot without title"
      ]
     },
     "metadata": {},
     "output_type": "display_data"
    }
   ],
   "source": [
    "testdata_plot(data, calendar_time=F)"
   ]
  },
  {
   "cell_type": "markdown",
   "metadata": {},
   "source": [
    "In reality, we do not know 'how many players eventually purchase' but wish to predict it. The real data set looks like this:"
   ]
  },
  {
   "cell_type": "code",
   "execution_count": 9,
   "metadata": {},
   "outputs": [
    {
     "data": {
      "image/png": "[encoded data removed]",
      "text/plain": [
       "plot without title"
      ]
     },
     "metadata": {},
     "output_type": "display_data"
    }
   ],
   "source": [
    "data$cured <- data$censored\n",
    "testdata_plot(data, calendar_time=F)"
   ]
  },
  {
   "cell_type": "markdown",
   "metadata": {},
   "source": [
    "> The goal is to predict how many players will eventually make a purchase from a data set like this."
   ]
  },
  {
   "cell_type": "markdown",
   "metadata": {},
   "source": [
    "## Mathematical formulation"
   ]
  },
  {
   "cell_type": "markdown",
   "metadata": {},
   "source": [
    "### Survival analysis mixture cure model"
   ]
  },
  {
   "cell_type": "markdown",
   "metadata": {},
   "source": [
    "Survival analysis is a field of statistics that analyzes data with event times and limited follow-ups. Our data is of this type: the event is 'a player makes a purchase' and the follow-up start when a player starts playing and ends at the data collection date. If a player makes a purchase this is the event time, and if the player has not made a purchase the  event is censored and the censoring time is the total follow-up time.\n",
    "\n",
    "We formalize the data as samples of following random variables. The time $T = \\text{min}(T^*, C)$ is either the purchase time $T^*$ or the total follow-up time $C$, depending which is smaller. The binary censoring indicator $\\delta = I(C\\leq T*)$ denotes whether a player made a purchase before the follow-up ended. In the paper, we assume the purchase time $T^*$ is exponentially distributed as $\\text{Exp}(\\lambda)$ and the censoring time $C$ is implied by the data collection time. The data sets consists of realizations $t_i = \\text{min}(t_i^*, c_i)$ and $\\delta_i = I(c_i\\leq t_i^*)$ for every player $i$.\n",
    "\n",
    "The survival function gives the probability that the purchase time is greater than a given time $t$:\n",
    "$$ S_m(t) = P(T^* > t) = e^{-\\lambda t} $$\n",
    "\n",
    "The hazard function is the instantaneous risk of purchase among players who have not yet purchased:\n",
    "$$ h_m(t) = \\text{lim}_{\\partial t \\rightarrow 0} \\frac{P(t<T^*<t+\\partial t | T^* > t)}{\\partial t} = \\lambda$$\n",
    "\n",
    "The probability density function of purchase times can be calculated from the survival and hazard functions:\n",
    "$$ f_m(t) = h_m(t)S_m(t)$$\n",
    "\n",
    "\n",
    "Standard survival analysis formulation assumes that every individual eventually has an event. This is clearly not true in free-to-play games, as most players never seem to purchase anything. The player population is therefore a mixture of two populations: purchasing players and non-purchasing players. To handle this, we use a mixture cure model. The cure indicator $\\zeta$ describes whether a player purchases $\\zeta = 0$ or not $\\zeta = 1$. We assume it to be Bernoulli distributed $\\text{Bern}(1-\\pi)$ so that $P(\\zeta = 0) = \\pi$ and $P(\\zeta = 1) = 1 - \\pi$. This is a latent variable, because a player may belong to either population if they have not yet made a purchase. In a mixture cure model, the survival function is a mixture of two subpopulations where $S_m(t) = e^{-\\lambda t}$ and $S_u(t) = 1$:\n",
    "$$ S(t) = \\pi S_m(t) + (1 - \\pi) S_u(t) $$"
   ]
  },
  {
   "cell_type": "markdown",
   "metadata": {},
   "source": [
    "### Fitting the model to the data set"
   ]
  },
  {
   "cell_type": "markdown",
   "metadata": {},
   "source": [
    "Now, the goal is to infer the model parameters $\\lambda$ and $\\pi$ from a dataset $D$.\n",
    "\n",
    "In the papers, we fit the model with maximum likelihood. The maximum likelihood estimate (MLE) is the parameters $\\lambda$ and $\\pi$ that maximizes the likelihood function of the data set:\n",
    "$$L(D|\\lambda,\\pi) = \\prod_{i=1}^{n}f(t|\\lambda,\\pi)^{1-\\delta_i}S(t|\\lambda,\\pi)^{\\delta_i}$$\n",
    "Since logarithm is a stricly increasing function, in practise the log-likelihood is often used instead as it has better numercial properties:\n",
    "$$\\text{log}(L(D|\\lambda,\\pi)) = \\sum_{i=1}^{n}(1-\\delta_i)\\text{log}(f(t|\\lambda,\\pi))+\\delta_i\\text{log}(S(t|\\lambda,\\pi))$$\n",
    "\n"
   ]
  },
  {
   "cell_type": "markdown",
   "metadata": {},
   "source": [
    "If the purchasing players are somehow known in advance, so that $\\zeta_i$ is known for every player, we call the data set **complete**. Then the solution is simple and intuitive. Denote $n_0$ as the number of purchasing players and $n_1$ the number of non purchasing players. Then the MLE of the monetization percentage is the fraction of players that purchase something and the monetization rate is the number of purchasing players divided by their total exposure time:\n",
    "\n",
    "$$\\pi=\\frac{n_0}{n_0+n_1}$$\n",
    "\n",
    "$$\\lambda=\\frac{n_0}{\\sum_{i:\\zeta_i=0} t_i} $$\n",
    "\n",
    "The function below implements the algorithm for complete data:"
   ]
  },
  {
   "cell_type": "code",
   "execution_count": 10,
   "metadata": {},
   "outputs": [],
   "source": [
    "cure <- function(data) {\n",
    "  result = c(sum(data$cured == 0) / sum(data$time[data$cured == 0]), \n",
    "             sum(data$cured == 0) / length(data$cured))\n",
    "  return(result)\n",
    "}"
   ]
  },
  {
   "cell_type": "markdown",
   "metadata": {},
   "source": [
    "\n",
    "If the purchasing players are not known, so that $\\zeta_i$ is a latent variable, we call the data set **incomplete**. Then it is not possible to derive an explicit equation for the MLE. However, in the paper we show that it is possible to use the Expectation Maximization (EM) algorithm to derive the following iterative algorithm for a given starting values $\\pi^{(0)}$ and $\\lambda^{(0)}$:\n",
    "\n",
    "$$\\pi^{(k)}=\\frac{1}{n}[\\sum_{i:\\delta_i=1}\\frac{\\pi^{(k-1)}e^{-\\lambda^{(k-1)}t_i}}{1-\\pi^{(k-1)}+\\pi^{(k-1)}e^{-\\lambda^{(k-1)}t_i}}] + \\sum_{i:\\delta_i=0}1$$\n",
    "\n",
    "$$\\lambda^{(k)}=\\frac{\\sum_{i:\\delta_i=0}1}{\\sum_{i:\\delta_i=1}\\frac{\\pi^{(k-1)}e^{-\\lambda^{(k-1)}t_i}}{1-\\pi^{(k-1)}+\\pi^{(k-1)}e^{-\\lambda^{(k-1)}t_i}}t_i + \\sum_{i:\\delta_i=0}t_i}$$\n",
    "\n",
    "The function below implements the algorithm for incomplete data:"
   ]
  },
  {
   "cell_type": "code",
   "execution_count": 11,
   "metadata": {},
   "outputs": [],
   "source": [
    "# EM-algorithm for a mixture cure model\n",
    "cureEM <- function(params, D){\n",
    "  \n",
    "  if(all(D$censored == 1)){\n",
    "    return(c(lambda = NA, pi = 0.0))\n",
    "  }\n",
    "  \n",
    "  lambda_prev <- params[1]\n",
    "  pi_prev <- params[2]\n",
    "\n",
    "  n <- length(D$time)\n",
    "  time_censored <- D$time[D$censored==1]\n",
    "  time_not_censored <- D$time[D$censored==0]\n",
    "  \n",
    "  # Precision of the result\n",
    "  eps <- 10^(-9)\n",
    "  continue <- TRUE\n",
    "  \n",
    "  while(continue){\n",
    "    \n",
    "    # Calculate the weights\n",
    "    D$weight[D$censored == 1] <- ifelse(time_censored == Inf, 0, \n",
    "                                        pi_prev*exp(-lambda_prev*time_censored) /\n",
    "                                        (1-pi_prev + pi_prev*exp(-lambda_prev*time_censored)))\n",
    "    D$weight[D$censored == 0] <- 1\n",
    "    \n",
    "    # Calculate the new values of the parameters\n",
    "    pi <- (sum(D$weight))/n\n",
    "    \n",
    "    lambda <- sum(D$weight[D$censored == 0])/\n",
    "      (sum(ifelse(time_censored == Inf, 0, D$weight[D$censored == 1]*time_censored)) +\n",
    "         sum(D$weight[D$censored == 0]*time_not_censored))\n",
    "    \n",
    "    # Did the algorithm converge yet? If not, update the values of the parameters\n",
    "    if(sqrt((pi_prev - pi)^2 + (lambda_prev - lambda)^2) < eps){\n",
    "      continue <- FALSE\n",
    "    }else{\n",
    "      lambda_prev <- lambda\n",
    "      pi_prev <- pi\n",
    "    }\n",
    "  }\n",
    "\n",
    "  return(c(lambda, pi))\n",
    "}"
   ]
  },
  {
   "cell_type": "markdown",
   "metadata": {},
   "source": [
    "Now there are some problematic cases when the algorithm does not work correctly. If the monetization percentage is small (0.1-10% are realistic) and the sample size is not large, it is possible that the sample does not include any monetizing players. In this case, the solution is not defined and the algorithm does not converge. Additionally, with very few monetizing players there are two solutions that are very close to each other in likelihood and the algorithm converges very slowly: 1.) a large proportion monetizes but the monetization rate is very small 2.) a small proportion monetizes and the monetization rate is reasonable. We can fix both of these problems with 'add one' or Laplace smoothing, which is sometimes used in probablistic models to deal with the zero-frequency problem. We simply add one pseudo-player that we know to be non monetizing, which in practise means that this player did not purchase and had an infinite follow-up (this is just a cool way to code asymptotic results directly ;-) ):"
   ]
  },
  {
   "cell_type": "code",
   "execution_count": 24,
   "metadata": {},
   "outputs": [],
   "source": [
    "testdata_addone <- function(df) {\n",
    "  one <- data.frame(max(df$sample)+1, 1, 0, NA, Inf, Inf, NA, 1)\n",
    "  names(one) <- c(\"sample\", \"cured\", \"time_start\", \"time_purchase\", \"time_end\", \"followup\", \"time\", \"censored\")\n",
    "  df <- rbind(df, one)\n",
    "  return(df)\n",
    "}"
   ]
  },
  {
   "cell_type": "markdown",
   "metadata": {},
   "source": [
    "Now, there is a more formal way to incorporate this to the algorithm. Bayesian inference can be used to incorporate prior knowledge about the monetization percentage. We can specify 'a prior distribution' of how we believe the monetization percentage to be distributed before we see any data, and update our belief based on the observed data. This is the Maximum a Posteriori (MAP) estimate. A natural prior for the Bernoulli distributed monetization percentage $\\pi$ is the Beta distribution. In the following figure, we visualize the following prior distributions:\n",
    "1. Beta(1,1): every $\\pi$ is equally likely, implies no prior information and actually corresponds to the MLE.\n",
    "2. Beta(1,2): smaller $\\pi$ is more slightly more likely with $\\pi=1.0$ not possible, implies weak prior information and actually corresponds to adding the one non-monetizing player.\n",
    "3. Beta(2, 10): smaller $\\pi$ around 0.00-0.20 are most likely with $\\pi=0.05$ expectation, implies some prior information and corresponds to adding one monetizing and 19 non-monetizing players."
   ]
  },
  {
   "cell_type": "code",
   "execution_count": 22,
   "metadata": {},
   "outputs": [
    {
     "data": {
      "image/png": "[encoded data removed]",
      "text/plain": [
       "plot without title"
      ]
     },
     "metadata": {},
     "output_type": "display_data"
    }
   ],
   "source": [
    "x <- seq(0.00, 1.00, 0.01)\n",
    "fun.1 <- function(x) dbeta(x, 1, 1, ncp = 0, log = FALSE)\n",
    "fun.2 <- function(x) dbeta(x, 1, 2, ncp = 0, log = FALSE)\n",
    "fun.3 <- function(x) dbeta(x, 2, 20, ncp = 0, log = FALSE)\n",
    "\n",
    "ggplot(data.frame(x=c(0.0, 1.0)), aes(x=x)) + \n",
    "  geom_path(aes(colour=\"red\"), stat=\"function\", fun=fun.1)+\n",
    "  geom_path(aes(colour=\"blue\"), stat=\"function\", fun=fun.2) +\n",
    "  geom_path(aes(colour=\"green\"), stat=\"function\", fun=fun.3) +\n",
    "  scale_colour_identity(\"Prior distribution\", guide=\"legend\", \n",
    "                        labels = c(\"Beta(1,1)\", \"Beta(1,2)\", \"Beta(2,20)\"), \n",
    "                        breaks = c(\"red\", \"blue\", \"green\")) +\n",
    "  scale_x_continuous(name=\"pi\", limits=c(0, 1), breaks=seq(0,1,0.2)) +\n",
    "  scale_y_continuous(name=\"probability density\", limits=c(0, 8)) +\n",
    "  ggtitle(\"Monetization percentage Beta priors\")\n",
    "\n"
   ]
  },
  {
   "cell_type": "markdown",
   "metadata": {},
   "source": [
    "This is an extension of the algorithm for incomplete data with prior knowledge:"
   ]
  },
  {
   "cell_type": "code",
   "execution_count": 12,
   "metadata": {},
   "outputs": [],
   "source": [
    "# EM-algorithm for a mixture cure model with beta distribution as a prior \n",
    "cureEMprior <- function(params, D, betapriorparams = c(1,1)){\n",
    "  \n",
    "  if(all(D$censored == 1)){\n",
    "    return(c(lambda = NA, pi = 0.0))\n",
    "  }\n",
    "  \n",
    "  lambda_prev <- params[1]\n",
    "  pi_prev <- params[2]\n",
    "  \n",
    "  alpha <- betapriorparams[1]\n",
    "  beta <- betapriorparams[2]\n",
    "  \n",
    "  n <- length(D$time)\n",
    "  time_censored <- D$time[D$censored==1]\n",
    "  time_not_censored <- D$time[D$censored==0]\n",
    "  \n",
    "  # Precision of the result\n",
    "  eps <- 10^(-9)\n",
    "  continue <- TRUE\n",
    "    \n",
    "  while(continue){\n",
    "    \n",
    "    # Calculate the weights\n",
    "    D$weight[D$censored == 1] <- ifelse(time_censored == Inf, 0, \n",
    "                                        pi_prev*exp(-lambda_prev*time_censored) /\n",
    "                                          (1-pi_prev + pi_prev*exp(-lambda_prev*time_censored)))\n",
    "    D$weight[D$censored == 0] <- 1\n",
    "    \n",
    "    # Calculate the new values of the parameters\n",
    "    pi <- (sum(D$weight) + alpha-1)/(n + alpha+beta-2)\n",
    "    \n",
    "    lambda <- sum(D$weight[D$censored == 0])/\n",
    "      (sum(ifelse(time_censored == Inf, 0, D$weight[D$censored == 1]*time_censored)) +\n",
    "         sum(D$weight[D$censored == 0]*time_not_censored))\n",
    "    \n",
    "    # Did the algorithm converge yet? If not, update the values of the parameters\n",
    "    if(sqrt((pi_prev - pi)^2 + (lambda_prev - lambda)^2) < eps){\n",
    "      continue <- FALSE\n",
    "    }else{\n",
    "      lambda_prev <- lambda\n",
    "      pi_prev <- pi\n",
    "    }\n",
    "  }\n",
    "\n",
    "  return(c(lambda, pi))\n",
    "}"
   ]
  },
  {
   "cell_type": "markdown",
   "metadata": {},
   "source": [
    "## Examples"
   ]
  },
  {
   "cell_type": "markdown",
   "metadata": {},
   "source": [
    "### Complete data"
   ]
  },
  {
   "cell_type": "markdown",
   "metadata": {},
   "source": [
    "First we generate some complete data where we know the monetizing players. This corresponds to a hypothetical scenario with infinite follow-ups:"
   ]
  },
  {
   "cell_type": "code",
   "execution_count": 13,
   "metadata": {},
   "outputs": [
    {
     "data": {
      "image/png": "[encoded data removed]",
      "text/plain": [
       "plot without title"
      ]
     },
     "metadata": {},
     "output_type": "display_data"
    }
   ],
   "source": [
    "data <- testdata_generate(n=100)\n",
    "data <- testdata_censor(data, time_end=Inf)\n",
    "testdata_plot(data, calendar_time=F)"
   ]
  },
  {
   "cell_type": "markdown",
   "metadata": {},
   "source": [
    "We see that 6 players monetized out of 100 and the rest were censored because they do not monetize:"
   ]
  },
  {
   "cell_type": "code",
   "execution_count": 14,
   "metadata": {},
   "outputs": [
    {
     "data": {
      "text/html": [
       "<table>\n",
       "<thead><tr><th></th><th scope=col>0</th><th scope=col>1</th><th scope=col>Sum</th></tr></thead>\n",
       "<tbody>\n",
       "\t<tr><th scope=row>0</th><td>6  </td><td> 0 </td><td>  6</td></tr>\n",
       "\t<tr><th scope=row>1</th><td>0  </td><td>94 </td><td> 94</td></tr>\n",
       "\t<tr><th scope=row>Sum</th><td>6  </td><td>94 </td><td>100</td></tr>\n",
       "</tbody>\n",
       "</table>\n"
      ],
      "text/latex": [
       "\\begin{tabular}{r|lll}\n",
       "  & 0 & 1 & Sum\\\\\n",
       "\\hline\n",
       "\t0 & 6   &  0  &   6\\\\\n",
       "\t1 & 0   & 94  &  94\\\\\n",
       "\tSum & 6   & 94  & 100\\\\\n",
       "\\end{tabular}\n"
      ],
      "text/markdown": [
       "\n",
       "| <!--/--> | 0 | 1 | Sum |\n",
       "|---|---|---|---|\n",
       "| 0 | 6   |  0  |   6 |\n",
       "| 1 | 0   | 94  |  94 |\n",
       "| Sum | 6   | 94  | 100 |\n",
       "\n"
      ],
      "text/plain": [
       "     censored\n",
       "cured 0 1  Sum\n",
       "  0   6  0   6\n",
       "  1   0 94  94\n",
       "  Sum 6 94 100"
      ]
     },
     "metadata": {},
     "output_type": "display_data"
    }
   ],
   "source": [
    "data$weight <- 1\n",
    "data$time <- ifelse(is.na(data$time), data$followup, data$time)\n",
    "data <- data[,c('time', 'cured', 'censored', 'weight')]\n",
    "addmargins(table(data[c('cured', 'censored')]))"
   ]
  },
  {
   "cell_type": "markdown",
   "metadata": {},
   "source": [
    "The straightforward calculation states that 6% of players monetize, as expected:"
   ]
  },
  {
   "cell_type": "code",
   "execution_count": 16,
   "metadata": {},
   "outputs": [
    {
     "name": "stdout",
     "output_type": "stream",
     "text": [
      "[1] 1.545778 0.060000\n"
     ]
    }
   ],
   "source": [
    "params <- cure(data)\n",
    "print(params)"
   ]
  },
  {
   "cell_type": "markdown",
   "metadata": {},
   "source": [
    "The mixture cure model returns the same result:"
   ]
  },
  {
   "cell_type": "code",
   "execution_count": 15,
   "metadata": {},
   "outputs": [
    {
     "name": "stdout",
     "output_type": "stream",
     "text": [
      "[1] 1.545778 0.060000\n"
     ]
    }
   ],
   "source": [
    "init <- c(0.5, 0.05)\n",
    "params <- cureEM(init, data)\n",
    "print(params)"
   ]
  },
  {
   "cell_type": "markdown",
   "metadata": {},
   "source": [
    "### Incomplete data"
   ]
  },
  {
   "cell_type": "markdown",
   "metadata": {},
   "source": [
    "Lets generate some incomplete data where we do not know the monetizing players. In this realistic setting, the method has to guess the monetizing players:"
   ]
  },
  {
   "cell_type": "code",
   "execution_count": 18,
   "metadata": {},
   "outputs": [
    {
     "data": {
      "image/png": "[encoded data removed]",
      "text/plain": [
       "plot without title"
      ]
     },
     "metadata": {},
     "output_type": "display_data"
    }
   ],
   "source": [
    "data <- testdata_generate(n=100, start_max=1)\n",
    "data <- testdata_censor(data, time_end=1)\n",
    "data <- testdata_addone(data)\n",
    "testdata_plot(data, calendar_time=F)"
   ]
  },
  {
   "cell_type": "markdown",
   "metadata": {},
   "source": [
    "In this setting, 3 players have monetized and 3 more will do so eventually, out of 100 (+1 add-one smoothing):"
   ]
  },
  {
   "cell_type": "code",
   "execution_count": 19,
   "metadata": {},
   "outputs": [
    {
     "data": {
      "text/html": [
       "<table>\n",
       "<thead><tr><th></th><th scope=col>0</th><th scope=col>1</th><th scope=col>Sum</th></tr></thead>\n",
       "<tbody>\n",
       "\t<tr><th scope=row>0</th><td>3  </td><td> 3 </td><td>  6</td></tr>\n",
       "\t<tr><th scope=row>1</th><td>0  </td><td>95 </td><td> 95</td></tr>\n",
       "\t<tr><th scope=row>Sum</th><td>3  </td><td>98 </td><td>101</td></tr>\n",
       "</tbody>\n",
       "</table>\n"
      ],
      "text/latex": [
       "\\begin{tabular}{r|lll}\n",
       "  & 0 & 1 & Sum\\\\\n",
       "\\hline\n",
       "\t0 & 3   &  3  &   6\\\\\n",
       "\t1 & 0   & 95  &  95\\\\\n",
       "\tSum & 3   & 98  & 101\\\\\n",
       "\\end{tabular}\n"
      ],
      "text/markdown": [
       "\n",
       "| <!--/--> | 0 | 1 | Sum |\n",
       "|---|---|---|---|\n",
       "| 0 | 3   |  3  |   6 |\n",
       "| 1 | 0   | 95  |  95 |\n",
       "| Sum | 3   | 98  | 101 |\n",
       "\n"
      ],
      "text/plain": [
       "     censored\n",
       "cured 0 1  Sum\n",
       "  0   3  3   6\n",
       "  1   0 95  95\n",
       "  Sum 3 98 101"
      ]
     },
     "metadata": {},
     "output_type": "display_data"
    }
   ],
   "source": [
    "data$weight <- 1\n",
    "data$time <- ifelse(is.na(data$time), data$followup, data$time)\n",
    "data <- data[,c('time', 'cured', 'censored', 'weight')]\n",
    "addmargins(table(data[c('cured', 'censored')]))"
   ]
  },
  {
   "cell_type": "markdown",
   "metadata": {},
   "source": [
    "The cureEM algorithm predicts that 4.5 will monetize eventually. The data was generated with 5% true monetization rate, so pretty close:"
   ]
  },
  {
   "cell_type": "code",
   "execution_count": 20,
   "metadata": {},
   "outputs": [
    {
     "name": "stdout",
     "output_type": "stream",
     "text": [
      "[1] 2.64029258 0.04456779\n"
     ]
    }
   ],
   "source": [
    "init <- c(0.5, 0.05)\n",
    "params <- cureEM(init, data)\n",
    "print(params)"
   ]
  },
  {
   "cell_type": "markdown",
   "metadata": {},
   "source": [
    "### Prior information"
   ]
  },
  {
   "cell_type": "markdown",
   "metadata": {},
   "source": [
    "We can add some small prior knowledge by stating that monetization percentages around 0-20% are most likely, where the prior distribution actually has a 5% expected value. The resulting estimate is slightly higher 4.7% because the prior influences it towards 5%: "
   ]
  },
  {
   "cell_type": "code",
   "execution_count": 23,
   "metadata": {},
   "outputs": [
    {
     "name": "stdout",
     "output_type": "stream",
     "text": [
      "[1] 2.52422480 0.04651319\n"
     ]
    }
   ],
   "source": [
    "init <- c(0.5, 0.05)\n",
    "params <- cureEMprior(init, data, betapriorparams = c(2,20))\n",
    "print(params)"
   ]
  },
  {
   "cell_type": "markdown",
   "metadata": {},
   "source": [
    "## Simulation experiments\n"
   ]
  },
  {
   "cell_type": "markdown",
   "metadata": {},
   "source": [
    "In the above examples we generated a single dataset and predicted the monetization percentage. In practise, it is essential to know how the algorithm works for different types of data and different realizations (samples) of the underlying data. In the following, we therefore make a simple simulation where we vary the number of samples (100, 1000, 10 000) and limited follow-up times (20%, 40%, 60%, 80%, 100% expected to monetize) and generate a data set 100 times, saving the predictions. We use a monetization percentage of 10% and monetization rate of 1.0. There are two simulations:\n",
    "\n",
    "1. Complete data: for comparison we illustrate the hypothetical case of complete data\n",
    "2. Incomple data: we illustrate how the method works for the realistic case of incomplete data"
   ]
  },
  {
   "cell_type": "markdown",
   "metadata": {},
   "source": [
    "### Complete data"
   ]
  },
  {
   "cell_type": "markdown",
   "metadata": {},
   "source": [
    "This runs the simlation for complete data (quite fast):"
   ]
  },
  {
   "cell_type": "code",
   "execution_count": 60,
   "metadata": {},
   "outputs": [
    {
     "name": "stdout",
     "output_type": "stream",
     "text": [
      "[1] \"Repetition: 1\"\n",
      "[1] \"Estimated time remaining: 0.027974 mins\"\n",
      "[1] \"Repetition: 2\"\n",
      "[1] \"Estimated time remaining: 0.030135 mins\"\n",
      "[1] \"Repetition: 3\"\n",
      "[1] \"Estimated time remaining: 0.027947 mins\"\n",
      "[1] \"Repetition: 4\"\n",
      "[1] \"Estimated time remaining: 0.032712 mins\"\n",
      "[1] \"Repetition: 5\"\n",
      "[1] \"Estimated time remaining: 0.030318 mins\"\n",
      "[1] \"Repetition: 6\"\n",
      "[1] \"Estimated time remaining: 0.028645 mins\"\n",
      "[1] \"Repetition: 7\"\n",
      "[1] \"Estimated time remaining: 0.027383 mins\"\n",
      "[1] \"Repetition: 8\"\n",
      "[1] \"Estimated time remaining: 0.026953 mins\"\n",
      "[1] \"Repetition: 9\"\n",
      "[1] \"Estimated time remaining: 0.026050 mins\"\n",
      "[1] \"Repetition: 10\"\n",
      "[1] \"Estimated time remaining: 0.025282 mins\"\n",
      "[1] \"Repetition: 11\"\n",
      "[1] \"Estimated time remaining: 0.024880 mins\"\n",
      "[1] \"Repetition: 12\"\n",
      "[1] \"Estimated time remaining: 0.024257 mins\"\n",
      "[1] \"Repetition: 13\"\n",
      "[1] \"Estimated time remaining: 0.023694 mins\"\n",
      "[1] \"Repetition: 14\"\n",
      "[1] \"Estimated time remaining: 0.023485 mins\"\n",
      "[1] \"Repetition: 15\"\n",
      "[1] \"Estimated time remaining: 0.022983 mins\"\n",
      "[1] \"Repetition: 16\"\n",
      "[1] \"Estimated time remaining: 0.022515 mins\"\n",
      "[1] \"Repetition: 17\"\n",
      "[1] \"Estimated time remaining: 0.022236 mins\"\n",
      "[1] \"Repetition: 18\"\n",
      "[1] \"Estimated time remaining: 0.021732 mins\"\n",
      "[1] \"Repetition: 19\"\n",
      "[1] \"Estimated time remaining: 0.021259 mins\"\n",
      "[1] \"Repetition: 20\"\n",
      "[1] \"Estimated time remaining: 0.021010 mins\"\n",
      "[1] \"Repetition: 21\"\n",
      "[1] \"Estimated time remaining: 0.020635 mins\"\n",
      "[1] \"Repetition: 22\"\n",
      "[1] \"Estimated time remaining: 0.020214 mins\"\n",
      "[1] \"Repetition: 23\"\n",
      "[1] \"Estimated time remaining: 0.019977 mins\"\n",
      "[1] \"Repetition: 24\"\n",
      "[1] \"Estimated time remaining: 0.019633 mins\"\n",
      "[1] \"Repetition: 25\"\n",
      "[1] \"Estimated time remaining: 0.019298 mins\"\n",
      "[1] \"Repetition: 26\"\n",
      "[1] \"Estimated time remaining: 0.019065 mins\"\n",
      "[1] \"Repetition: 27\"\n",
      "[1] \"Estimated time remaining: 0.018740 mins\"\n",
      "[1] \"Repetition: 28\"\n",
      "[1] \"Estimated time remaining: 0.018507 mins\"\n",
      "[1] \"Repetition: 29\"\n",
      "[1] \"Estimated time remaining: 0.018191 mins\"\n",
      "[1] \"Repetition: 30\"\n",
      "[1] \"Estimated time remaining: 0.017880 mins\"\n",
      "[1] \"Repetition: 31\"\n",
      "[1] \"Estimated time remaining: 0.017833 mins\"\n",
      "[1] \"Repetition: 32\"\n",
      "[1] \"Estimated time remaining: 0.017555 mins\"\n",
      "[1] \"Repetition: 33\"\n",
      "[1] \"Estimated time remaining: 0.017346 mins\"\n",
      "[1] \"Repetition: 34\"\n",
      "[1] \"Estimated time remaining: 0.017166 mins\"\n",
      "[1] \"Repetition: 35\"\n",
      "[1] \"Estimated time remaining: 0.016887 mins\"\n",
      "[1] \"Repetition: 36\"\n",
      "[1] \"Estimated time remaining: 0.016579 mins\"\n",
      "[1] \"Repetition: 37\"\n",
      "[1] \"Estimated time remaining: 0.016389 mins\"\n",
      "[1] \"Repetition: 38\"\n",
      "[1] \"Estimated time remaining: 0.016111 mins\"\n",
      "[1] \"Repetition: 39\"\n",
      "[1] \"Estimated time remaining: 0.015887 mins\"\n",
      "[1] \"Repetition: 40\"\n",
      "[1] \"Estimated time remaining: 0.015609 mins\"\n",
      "[1] \"Repetition: 41\"\n",
      "[1] \"Estimated time remaining: 0.015334 mins\"\n",
      "[1] \"Repetition: 42\"\n",
      "[1] \"Estimated time remaining: 0.015128 mins\"\n",
      "[1] \"Repetition: 43\"\n",
      "[1] \"Estimated time remaining: 0.014830 mins\"\n",
      "[1] \"Repetition: 44\"\n",
      "[1] \"Estimated time remaining: 0.014598 mins\"\n",
      "[1] \"Repetition: 45\"\n",
      "[1] \"Estimated time remaining: 0.014324 mins\"\n",
      "[1] \"Repetition: 46\"\n",
      "[1] \"Estimated time remaining: 0.014050 mins\"\n",
      "[1] \"Repetition: 47\"\n",
      "[1] \"Estimated time remaining: 0.013834 mins\"\n",
      "[1] \"Repetition: 48\"\n",
      "[1] \"Estimated time remaining: 0.013579 mins\"\n",
      "[1] \"Repetition: 49\"\n",
      "[1] \"Estimated time remaining: 0.013408 mins\"\n",
      "[1] \"Repetition: 50\"\n",
      "[1] \"Estimated time remaining: 0.013132 mins\"\n",
      "[1] \"Repetition: 51\"\n",
      "[1] \"Estimated time remaining: 0.012872 mins\"\n",
      "[1] \"Repetition: 52\"\n",
      "[1] \"Estimated time remaining: 0.012628 mins\"\n",
      "[1] \"Repetition: 53\"\n",
      "[1] \"Estimated time remaining: 0.012367 mins\"\n",
      "[1] \"Repetition: 54\"\n",
      "[1] \"Estimated time remaining: 0.012135 mins\"\n",
      "[1] \"Repetition: 55\"\n",
      "[1] \"Estimated time remaining: 0.011873 mins\"\n",
      "[1] \"Repetition: 56\"\n",
      "[1] \"Estimated time remaining: 0.011663 mins\"\n",
      "[1] \"Repetition: 57\"\n",
      "[1] \"Estimated time remaining: 0.011386 mins\"\n",
      "[1] \"Repetition: 58\"\n",
      "[1] \"Estimated time remaining: 0.011134 mins\"\n",
      "[1] \"Repetition: 59\"\n",
      "[1] \"Estimated time remaining: 0.010858 mins\"\n",
      "[1] \"Repetition: 60\"\n",
      "[1] \"Estimated time remaining: 0.010583 mins\"\n",
      "[1] \"Repetition: 61\"\n",
      "[1] \"Estimated time remaining: 0.010351 mins\"\n",
      "[1] \"Repetition: 62\"\n",
      "[1] \"Estimated time remaining: 0.010096 mins\"\n",
      "[1] \"Repetition: 63\"\n",
      "[1] \"Estimated time remaining: 0.009840 mins\"\n",
      "[1] \"Repetition: 64\"\n",
      "[1] \"Estimated time remaining: 0.009621 mins\"\n",
      "[1] \"Repetition: 65\"\n",
      "[1] \"Estimated time remaining: 0.009344 mins\"\n",
      "[1] \"Repetition: 66\"\n",
      "[1] \"Estimated time remaining: 0.009137 mins\"\n",
      "[1] \"Repetition: 67\"\n",
      "[1] \"Estimated time remaining: 0.008875 mins\"\n",
      "[1] \"Repetition: 68\"\n",
      "[1] \"Estimated time remaining: 0.008589 mins\"\n",
      "[1] \"Repetition: 69\"\n",
      "[1] \"Estimated time remaining: 0.008312 mins\"\n",
      "[1] \"Repetition: 70\"\n",
      "[1] \"Estimated time remaining: 0.008050 mins\"\n",
      "[1] \"Repetition: 71\"\n",
      "[1] \"Estimated time remaining: 0.007774 mins\"\n",
      "[1] \"Repetition: 72\"\n",
      "[1] \"Estimated time remaining: 0.007492 mins\"\n",
      "[1] \"Repetition: 73\"\n",
      "[1] \"Estimated time remaining: 0.007230 mins\"\n",
      "[1] \"Repetition: 74\"\n",
      "[1] \"Estimated time remaining: 0.006950 mins\"\n",
      "[1] \"Repetition: 75\"\n",
      "[1] \"Estimated time remaining: 0.006671 mins\"\n",
      "[1] \"Repetition: 76\"\n",
      "[1] \"Estimated time remaining: 0.006414 mins\"\n",
      "[1] \"Repetition: 77\"\n",
      "[1] \"Estimated time remaining: 0.006142 mins\"\n",
      "[1] \"Repetition: 78\"\n",
      "[1] \"Estimated time remaining: 0.005874 mins\"\n",
      "[1] \"Repetition: 79\"\n",
      "[1] \"Estimated time remaining: 0.005616 mins\"\n",
      "[1] \"Repetition: 80\"\n",
      "[1] \"Estimated time remaining: 0.005344 mins\"\n",
      "[1] \"Repetition: 81\"\n",
      "[1] \"Estimated time remaining: 0.005080 mins\"\n",
      "[1] \"Repetition: 82\"\n",
      "[1] \"Estimated time remaining: 0.004805 mins\"\n",
      "[1] \"Repetition: 83\"\n",
      "[1] \"Estimated time remaining: 0.004535 mins\"\n",
      "[1] \"Repetition: 84\"\n",
      "[1] \"Estimated time remaining: 0.004271 mins\"\n",
      "[1] \"Repetition: 85\"\n",
      "[1] \"Estimated time remaining: 0.003998 mins\"\n",
      "[1] \"Repetition: 86\"\n",
      "[1] \"Estimated time remaining: 0.003726 mins\"\n",
      "[1] \"Repetition: 87\"\n",
      "[1] \"Estimated time remaining: 0.003460 mins\"\n",
      "[1] \"Repetition: 88\"\n",
      "[1] \"Estimated time remaining: 0.003191 mins\"\n",
      "[1] \"Repetition: 89\"\n",
      "[1] \"Estimated time remaining: 0.002921 mins\"\n",
      "[1] \"Repetition: 90\"\n",
      "[1] \"Estimated time remaining: 0.002658 mins\"\n",
      "[1] \"Repetition: 91\"\n",
      "[1] \"Estimated time remaining: 0.002389 mins\"\n",
      "[1] \"Repetition: 92\"\n",
      "[1] \"Estimated time remaining: 0.002125 mins\"\n",
      "[1] \"Repetition: 93\"\n",
      "[1] \"Estimated time remaining: 0.001857 mins\"\n",
      "[1] \"Repetition: 94\"\n",
      "[1] \"Estimated time remaining: 0.001589 mins\"\n",
      "[1] \"Repetition: 95\"\n",
      "[1] \"Estimated time remaining: 0.001325 mins\"\n",
      "[1] \"Repetition: 96\"\n",
      "[1] \"Estimated time remaining: 0.001059 mins\"\n",
      "[1] \"Repetition: 97\"\n",
      "[1] \"Estimated time remaining: 0.000795 mins\"\n",
      "[1] \"Repetition: 98\"\n",
      "[1] \"Estimated time remaining: 0.000529 mins\"\n",
      "[1] \"Repetition: 99\"\n",
      "[1] \"Estimated time remaining: 0.000265 mins\"\n",
      "[1] \"Repetition: 100\"\n",
      "[1] \"Estimated time remaining: 0.000000 mins\"\n"
     ]
    }
   ],
   "source": [
    "# Run iterations (i) of cure (complete data) over number of samples (n) and time (t)\n",
    "cure_fraction = 0.9\n",
    "rate = 1.0\n",
    "n_ = c(100, 1000, 10000)#n_ <- 2**seq(7,16)\n",
    "t_ = qexp(c(0.2,0.4,0.6,0.8,1.0), rate=rate) #t_ <- qexp(seq(0.1,1.0,0.1), rate=rate)\n",
    "rep <- 100\n",
    "experiments <- list()\n",
    "x <- 1\n",
    "run.time <- 0\n",
    "for (i in seq(rep)) {\n",
    "  print(sprintf(\"Repetition: %d\", i))\n",
    "  experiment.start <- Sys.time()\n",
    "  for (n in n_) {\n",
    "    for (t in t_) {\n",
    "      testdata1 <- testdata_generate(n=n, cure_fraction=cure_fraction, rate=rate)\n",
    "      testdata1 <- testdata_censor(testdata1, time_end=Inf)\n",
    "      #testdata1 <- testdata_addone(testdata1)\n",
    "      data <- testdata1\n",
    "      data$weight <- 1\n",
    "      data$time <- ifelse(is.na(data$time), data$followup, data$time)\n",
    "      params <- cure(data)\n",
    "      experiment <- c(n=n, t=t, lambda=params[1], pi=params[2])\n",
    "      experiments[[x]] <- experiment\n",
    "      x <- x + 1\n",
    "    }\n",
    "  }\n",
    "  experiment.end <- Sys.time()\n",
    "  run.time <- run.time + (experiment.end - experiment.start)\n",
    "  experiment.time <- as.double(run.time/i, unit=\"mins\")\n",
    "  print(sprintf(\"Estimated time remaining: %f mins\", (rep - i)*experiment.time))\n",
    "}\n",
    "# Save results to experiments_cureEM.csv or experiments_cure.csv\n",
    "experiments.df <- as.data.frame(do.call(rbind, experiments))"
   ]
  },
  {
   "cell_type": "markdown",
   "metadata": {},
   "source": [
    "We observe well-known statistical asymptotic results: the MLE approaches the true value in probability as the sample size increases. Increasing the sample size is quite helpful and reliable estimates can be obtained even with short 20% follow-ups:"
   ]
  },
  {
   "cell_type": "code",
   "execution_count": 67,
   "metadata": {},
   "outputs": [
    {
     "data": {
      "image/png": "[encoded data removed]",
      "text/plain": [
       "Plot with title \"n=10000, t=Inf\""
      ]
     },
     "metadata": {},
     "output_type": "display_data"
    }
   ],
   "source": [
    "experiments.values <- aggregate(pi ~ n + t, experiments.df, list)\n",
    "\n",
    "# Plot histogram or 'pi' over samples (n) x time (t) pairs\n",
    "plot_values <- function (experiment) {\n",
    "  title <- sprintf(\"n=%d, t=%.2f\", experiment$n, experiment$t)\n",
    "  hist(experiment$pi, breaks=seq(0.00,1.00,0.01), main=title)\n",
    "}\n",
    "t.total <- length(unique(experiments.values$t))\n",
    "n.total <- length(unique(experiments.values$n))\n",
    "options(repr.plot.width=6*n.total, repr.plot.height=3*t.total)\n",
    "par(mfrow=c(t.total, n.total), mar=c(1,1,1,1))\n",
    "invisible(apply(experiments.values, 1, plot_values))"
   ]
  },
  {
   "cell_type": "markdown",
   "metadata": {},
   "source": [
    "As expected, the estimates are unbiased and variance is inversely proportional to the sample size:"
   ]
  },
  {
   "cell_type": "code",
   "execution_count": 73,
   "metadata": {},
   "outputs": [
    {
     "data": {
      "image/png": "[encoded data removed]",
      "text/plain": [
       "plot without title"
      ]
     },
     "metadata": {},
     "output_type": "display_data"
    },
    {
     "data": {
      "image/png": "[encoded data removed]",
      "text/plain": [
       "plot without title"
      ]
     },
     "metadata": {},
     "output_type": "display_data"
    }
   ],
   "source": [
    "experiments.mean <- aggregate(pi ~ n + t, experiments.df, mean)\n",
    "experiments.sd <- aggregate(pi ~ n + t, experiments.df, sd)\n",
    "\n",
    "# Plot bias and variance over samples (n) x time (t) pairs\n",
    "experiments.bias <- experiments.mean\n",
    "experiments.bias$pi <- experiments.bias$pi - (1.0 - cure_fraction)\n",
    "\n",
    "options(repr.plot.width=4, repr.plot.height=2)\n",
    "ggplot(experiments.bias, aes(factor(n), factor(t), z=pi)) + geom_tile(aes(fill=pi)) + theme_bw() + \n",
    "    scale_fill_gradient(low='blue', high='red') + ggtitle('Bias')\n",
    "ggplot(experiments.sd, aes(factor(n), factor(t), z=pi)) + geom_tile(aes(fill=pi)) + theme_bw() + \n",
    "    scale_fill_gradient(low='green', high='red') + ggtitle('Variance')\n"
   ]
  },
  {
   "cell_type": "markdown",
   "metadata": {},
   "source": [
    "### Incompete data"
   ]
  },
  {
   "cell_type": "markdown",
   "metadata": {},
   "source": [
    "This runs the simulation for incomplete data (takes time):"
   ]
  },
  {
   "cell_type": "code",
   "execution_count": 74,
   "metadata": {},
   "outputs": [
    {
     "name": "stdout",
     "output_type": "stream",
     "text": [
      "[1] \"Repetition: 1\"\n",
      "[1] \"Estimated time remaining: 62.610070 mins\"\n",
      "[1] \"Repetition: 2\"\n",
      "[1] \"Estimated time remaining: 84.276819 mins\"\n",
      "[1] \"Repetition: 3\"\n",
      "[1] \"Estimated time remaining: 88.706514 mins\"\n",
      "[1] \"Repetition: 4\"\n",
      "[1] \"Estimated time remaining: 77.553906 mins\"\n",
      "[1] \"Repetition: 5\"\n",
      "[1] \"Estimated time remaining: 69.302795 mins\"\n",
      "[1] \"Repetition: 6\"\n",
      "[1] \"Estimated time remaining: 62.630069 mins\"\n",
      "[1] \"Repetition: 7\"\n",
      "[1] \"Estimated time remaining: 56.316168 mins\"\n",
      "[1] \"Repetition: 8\"\n",
      "[1] \"Estimated time remaining: 56.735370 mins\"\n",
      "[1] \"Repetition: 9\"\n",
      "[1] \"Estimated time remaining: 52.362124 mins\"\n",
      "[1] \"Repetition: 10\"\n",
      "[1] \"Estimated time remaining: 54.079055 mins\"\n",
      "[1] \"Repetition: 11\"\n",
      "[1] \"Estimated time remaining: 51.420353 mins\"\n",
      "[1] \"Repetition: 12\"\n",
      "[1] \"Estimated time remaining: 53.585610 mins\"\n",
      "[1] \"Repetition: 13\"\n",
      "[1] \"Estimated time remaining: 49.896603 mins\"\n",
      "[1] \"Repetition: 14\"\n",
      "[1] \"Estimated time remaining: 51.106443 mins\"\n",
      "[1] \"Repetition: 15\"\n",
      "[1] \"Estimated time remaining: 47.797017 mins\"\n",
      "[1] \"Repetition: 16\"\n",
      "[1] \"Estimated time remaining: 44.931877 mins\"\n",
      "[1] \"Repetition: 17\"\n",
      "[1] \"Estimated time remaining: 47.060255 mins\"\n",
      "[1] \"Repetition: 18\"\n",
      "[1] \"Estimated time remaining: 49.442338 mins\"\n",
      "[1] \"Repetition: 19\"\n",
      "[1] \"Estimated time remaining: 46.867465 mins\"\n",
      "[1] \"Repetition: 20\"\n",
      "[1] \"Estimated time remaining: 46.594213 mins\"\n",
      "[1] \"Repetition: 21\"\n",
      "[1] \"Estimated time remaining: 44.734017 mins\"\n",
      "[1] \"Repetition: 22\"\n",
      "[1] \"Estimated time remaining: 42.656886 mins\"\n",
      "[1] \"Repetition: 23\"\n",
      "[1] \"Estimated time remaining: 40.993381 mins\"\n",
      "[1] \"Repetition: 24\"\n",
      "[1] \"Estimated time remaining: 39.861248 mins\"\n",
      "[1] \"Repetition: 25\"\n",
      "[1] \"Estimated time remaining: 40.826599 mins\"\n",
      "[1] \"Repetition: 26\"\n",
      "[1] \"Estimated time remaining: 41.075310 mins\"\n",
      "[1] \"Repetition: 27\"\n",
      "[1] \"Estimated time remaining: 42.209350 mins\"\n",
      "[1] \"Repetition: 28\"\n",
      "[1] \"Estimated time remaining: 41.582842 mins\"\n",
      "[1] \"Repetition: 29\"\n",
      "[1] \"Estimated time remaining: 40.279249 mins\"\n",
      "[1] \"Repetition: 30\"\n",
      "[1] \"Estimated time remaining: 38.794016 mins\"\n",
      "[1] \"Repetition: 31\"\n",
      "[1] \"Estimated time remaining: 38.048282 mins\"\n",
      "[1] \"Repetition: 32\"\n",
      "[1] \"Estimated time remaining: 38.612207 mins\"\n",
      "[1] \"Repetition: 33\"\n",
      "[1] \"Estimated time remaining: 37.444011 mins\"\n",
      "[1] \"Repetition: 34\"\n",
      "[1] \"Estimated time remaining: 36.241308 mins\"\n",
      "[1] \"Repetition: 35\"\n",
      "[1] \"Estimated time remaining: 36.964025 mins\"\n",
      "[1] \"Repetition: 36\"\n",
      "[1] \"Estimated time remaining: 36.612460 mins\"\n",
      "[1] \"Repetition: 37\"\n",
      "[1] \"Estimated time remaining: 35.429260 mins\"\n",
      "[1] \"Repetition: 38\"\n",
      "[1] \"Estimated time remaining: 35.726074 mins\"\n",
      "[1] \"Repetition: 39\"\n",
      "[1] \"Estimated time remaining: 34.531982 mins\"\n",
      "[1] \"Repetition: 40\"\n",
      "[1] \"Estimated time remaining: 34.111677 mins\"\n",
      "[1] \"Repetition: 41\"\n",
      "[1] \"Estimated time remaining: 33.009358 mins\"\n",
      "[1] \"Repetition: 42\"\n",
      "[1] \"Estimated time remaining: 33.011721 mins\"\n",
      "[1] \"Repetition: 43\"\n",
      "[1] \"Estimated time remaining: 31.912795 mins\"\n",
      "[1] \"Repetition: 44\"\n",
      "[1] \"Estimated time remaining: 31.501068 mins\"\n",
      "[1] \"Repetition: 45\"\n",
      "[1] \"Estimated time remaining: 31.818796 mins\"\n",
      "[1] \"Repetition: 46\"\n",
      "[1] \"Estimated time remaining: 31.822323 mins\"\n",
      "[1] \"Repetition: 47\"\n",
      "[1] \"Estimated time remaining: 30.724741 mins\"\n",
      "[1] \"Repetition: 48\"\n",
      "[1] \"Estimated time remaining: 30.458506 mins\"\n",
      "[1] \"Repetition: 49\"\n",
      "[1] \"Estimated time remaining: 30.638611 mins\"\n",
      "[1] \"Repetition: 50\"\n",
      "[1] \"Estimated time remaining: 29.876139 mins\"\n",
      "[1] \"Repetition: 51\"\n",
      "[1] \"Estimated time remaining: 29.717702 mins\"\n",
      "[1] \"Repetition: 52\"\n",
      "[1] \"Estimated time remaining: 29.893207 mins\"\n",
      "[1] \"Repetition: 53\"\n",
      "[1] \"Estimated time remaining: 29.824654 mins\"\n",
      "[1] \"Repetition: 54\"\n",
      "[1] \"Estimated time remaining: 29.734075 mins\"\n",
      "[1] \"Repetition: 55\"\n",
      "[1] \"Estimated time remaining: 29.469280 mins\"\n",
      "[1] \"Repetition: 56\"\n",
      "[1] \"Estimated time remaining: 29.162547 mins\"\n",
      "[1] \"Repetition: 57\"\n",
      "[1] \"Estimated time remaining: 29.035755 mins\"\n",
      "[1] \"Repetition: 58\"\n",
      "[1] \"Estimated time remaining: 28.291014 mins\"\n",
      "[1] \"Repetition: 59\"\n",
      "[1] \"Estimated time remaining: 27.297329 mins\"\n",
      "[1] \"Repetition: 60\"\n",
      "[1] \"Estimated time remaining: 26.508335 mins\"\n",
      "[1] \"Repetition: 61\"\n",
      "[1] \"Estimated time remaining: 26.052184 mins\"\n",
      "[1] \"Repetition: 62\"\n",
      "[1] \"Estimated time remaining: 25.816746 mins\"\n",
      "[1] \"Repetition: 63\"\n",
      "[1] \"Estimated time remaining: 24.992573 mins\"\n",
      "[1] \"Repetition: 64\"\n",
      "[1] \"Estimated time remaining: 23.978237 mins\"\n",
      "[1] \"Repetition: 65\"\n",
      "[1] \"Estimated time remaining: 23.014631 mins\"\n",
      "[1] \"Repetition: 66\"\n",
      "[1] \"Estimated time remaining: 22.408027 mins\"\n",
      "[1] \"Repetition: 67\"\n",
      "[1] \"Estimated time remaining: 22.095096 mins\"\n",
      "[1] \"Repetition: 68\"\n",
      "[1] \"Estimated time remaining: 21.412428 mins\"\n",
      "[1] \"Repetition: 69\"\n",
      "[1] \"Estimated time remaining: 20.579805 mins\"\n",
      "[1] \"Repetition: 70\"\n",
      "[1] \"Estimated time remaining: 20.174232 mins\"\n",
      "[1] \"Repetition: 71\"\n",
      "[1] \"Estimated time remaining: 19.281868 mins\"\n",
      "[1] \"Repetition: 72\"\n",
      "[1] \"Estimated time remaining: 18.892563 mins\"\n",
      "[1] \"Repetition: 73\"\n",
      "[1] \"Estimated time remaining: 18.073332 mins\"\n",
      "[1] \"Repetition: 74\"\n",
      "[1] \"Estimated time remaining: 17.592038 mins\"\n",
      "[1] \"Repetition: 75\"\n",
      "[1] \"Estimated time remaining: 17.058060 mins\"\n",
      "[1] \"Repetition: 76\"\n",
      "[1] \"Estimated time remaining: 16.189972 mins\"\n",
      "[1] \"Repetition: 77\"\n",
      "[1] \"Estimated time remaining: 15.687533 mins\"\n",
      "[1] \"Repetition: 78\"\n",
      "[1] \"Estimated time remaining: 14.941994 mins\"\n",
      "[1] \"Repetition: 79\"\n",
      "[1] \"Estimated time remaining: 14.250538 mins\"\n",
      "[1] \"Repetition: 80\"\n",
      "[1] \"Estimated time remaining: 13.712983 mins\"\n",
      "[1] \"Repetition: 81\"\n",
      "[1] \"Estimated time remaining: 13.038407 mins\"\n",
      "[1] \"Repetition: 82\"\n",
      "[1] \"Estimated time remaining: 12.403565 mins\"\n",
      "[1] \"Repetition: 83\"\n",
      "[1] \"Estimated time remaining: 11.723534 mins\"\n",
      "[1] \"Repetition: 84\"\n",
      "[1] \"Estimated time remaining: 10.921214 mins\"\n",
      "[1] \"Repetition: 85\"\n",
      "[1] \"Estimated time remaining: 10.315053 mins\"\n",
      "[1] \"Repetition: 86\"\n",
      "[1] \"Estimated time remaining: 9.766164 mins\"\n",
      "[1] \"Repetition: 87\"\n",
      "[1] \"Estimated time remaining: 9.048788 mins\"\n",
      "[1] \"Repetition: 88\"\n",
      "[1] \"Estimated time remaining: 8.303957 mins\"\n",
      "[1] \"Repetition: 89\"\n",
      "[1] \"Estimated time remaining: 7.542541 mins\"\n",
      "[1] \"Repetition: 90\"\n",
      "[1] \"Estimated time remaining: 6.812393 mins\"\n",
      "[1] \"Repetition: 91\"\n",
      "[1] \"Estimated time remaining: 6.117966 mins\"\n",
      "[1] \"Repetition: 92\"\n",
      "[1] \"Estimated time remaining: 5.470896 mins\"\n",
      "[1] \"Repetition: 93\"\n",
      "[1] \"Estimated time remaining: 4.746022 mins\"\n",
      "[1] \"Repetition: 94\"\n",
      "[1] \"Estimated time remaining: 4.114121 mins\"\n",
      "[1] \"Repetition: 95\"\n",
      "[1] \"Estimated time remaining: 3.408950 mins\"\n",
      "[1] \"Repetition: 96\"\n",
      "[1] \"Estimated time remaining: 2.747971 mins\"\n",
      "[1] \"Repetition: 97\"\n",
      "[1] \"Estimated time remaining: 2.046658 mins\"\n",
      "[1] \"Repetition: 98\"\n",
      "[1] \"Estimated time remaining: 1.362179 mins\"\n",
      "[1] \"Repetition: 99\"\n",
      "[1] \"Estimated time remaining: 0.675062 mins\"\n",
      "[1] \"Repetition: 100\"\n",
      "[1] \"Estimated time remaining: 0.000000 mins\"\n"
     ]
    }
   ],
   "source": [
    "# Run iterations (i) of cureEM (incomplete data) or cure (complete data) over number of samples (n) and time (t)\n",
    "cure_fraction = 0.9\n",
    "rate = 1.0\n",
    "n_ = c(100, 1000, 10000)#n_ <- 2**seq(7,16)\n",
    "t_ = qexp(c(0.2,0.4,0.6,0.8,1.0), rate=rate) #t_ <- qexp(seq(0.1,1.0,0.1), rate=rate)\n",
    "rep <- 100\n",
    "experiments <- list()\n",
    "x <- 1\n",
    "run.time <- 0\n",
    "for (i in seq(rep)) {\n",
    "  print(sprintf(\"Repetition: %d\", i))\n",
    "  experiment.start <- Sys.time()\n",
    "  for (n in n_) {\n",
    "    for (t in t_) {\n",
    "        testdata1 <- testdata_generate(n=n, cure_fraction=cure_fraction, rate=rate)\n",
    "        testdata1 <- testdata_censor(testdata1, time_end=t)\n",
    "        testdata1 <- testdata_addone(testdata1)\n",
    "        data <- testdata1\n",
    "        data$weight <- 1\n",
    "        data$time <- ifelse(is.na(data$time), data$followup, data$time)\n",
    "        params <- cureEM(c(0.5, 0.05), data)\n",
    "        experiment <- c(n=n, t=t, lambda=params[1], pi=params[2])\n",
    "        experiments[[x]] <- experiment\n",
    "        x <- x + 1\n",
    "    }\n",
    "  }\n",
    "  experiment.end <- Sys.time()\n",
    "  run.time <- run.time + (experiment.end - experiment.start)\n",
    "  experiment.time <- as.double(run.time/i, unit=\"mins\")\n",
    "  print(sprintf(\"Estimated time remaining: %f mins\", (rep - i)*experiment.time))\n",
    "}\n",
    "# Save results to experiments_cureEM.csv or experiments_cure.csv\n",
    "experiments.df <- as.data.frame(do.call(rbind, experiments))\n"
   ]
  },
  {
   "cell_type": "markdown",
   "metadata": {},
   "source": [
    "The well-known statistical asymptotic results should apply here too. However, the MLE approaches the true value in probability very slowly as the sample size increases. Increasing the sample size is not very helpful in practise and a large variance in the estimates decreases slowly unless the follow-up time is increased. This is a quite surprising result, which demonstrates that asymptotic guarantees may not always translate to practical guarantees:"
   ]
  },
  {
   "cell_type": "code",
   "execution_count": 75,
   "metadata": {},
   "outputs": [
    {
     "data": {
      "image/png": "[encoded data removed]",
      "text/plain": [
       "Plot with title \"n=10000, t=Inf\""
      ]
     },
     "metadata": {},
     "output_type": "display_data"
    }
   ],
   "source": [
    "experiments.values <- aggregate(pi ~ n + t, experiments.df, list)\n",
    "\n",
    "# Plot histogram or 'pi' over samples (n) x time (t) pairs\n",
    "plot_values <- function (experiment) {\n",
    "  title <- sprintf(\"n=%d, t=%.2f\", experiment$n, experiment$t)\n",
    "  hist(experiment$pi, breaks=seq(0.00,1.00,0.01), main=title)\n",
    "}\n",
    "t.total <- length(unique(experiments.values$t))\n",
    "n.total <- length(unique(experiments.values$n))\n",
    "options(repr.plot.width=6*n.total, repr.plot.height=3*t.total)\n",
    "par(mfrow=c(t.total, n.total), mar=c(1,1,1,1))\n",
    "invisible(apply(experiments.values, 1, plot_values))"
   ]
  },
  {
   "cell_type": "markdown",
   "metadata": {},
   "source": [
    "The method is somewhat biased, it tends to underestimate the monetization percentage for smaller sample sizes and follow-up times. Both larger sample sizes and larger follow-up times are required to decrease the variance:"
   ]
  },
  {
   "cell_type": "code",
   "execution_count": 76,
   "metadata": {},
   "outputs": [
    {
     "data": {
      "image/png": "[encoded data removed]",
      "text/plain": [
       "plot without title"
      ]
     },
     "metadata": {},
     "output_type": "display_data"
    },
    {
     "data": {
      "image/png": "[encoded data removed]",
      "text/plain": [
       "plot without title"
      ]
     },
     "metadata": {},
     "output_type": "display_data"
    }
   ],
   "source": [
    "experiments.mean <- aggregate(pi ~ n + t, experiments.df, mean)\n",
    "experiments.sd <- aggregate(pi ~ n + t, experiments.df, sd)\n",
    "\n",
    "# Plot bias and variance over samples (n) x time (t) pairs\n",
    "experiments.bias <- experiments.mean\n",
    "experiments.bias$pi <- experiments.bias$pi - (1.0 - cure_fraction)\n",
    "\n",
    "options(repr.plot.width=4, repr.plot.height=2)\n",
    "ggplot(experiments.bias, aes(factor(n), factor(t), z=pi)) + geom_tile(aes(fill=pi)) + theme_bw() + \n",
    "    scale_fill_gradient(low='blue', high='red') + ggtitle('Bias')\n",
    "ggplot(experiments.sd, aes(factor(n), factor(t), z=pi)) + geom_tile(aes(fill=pi)) + theme_bw() + \n",
    "    scale_fill_gradient(low='green', high='red') + ggtitle('Variance')"
   ]
  },
  {
   "cell_type": "markdown",
   "metadata": {},
   "source": [
    "## The Banana and a problem with parametric statistics"
   ]
  },
  {
   "cell_type": "markdown",
   "metadata": {},
   "source": [
    "In the final example, we illustrate some funky facts about how parametric statistics is not as reliable as often though. In our application, the problem is that asymptotic guarantees based on statistical theory cannot be applied because the convergence towards the asymptotic results is extremely slow in practise. Assuming asymptotic results is contradicted by two facts:\n",
    "1. The parameter's distribution should be multivariate normal. However, the likelihood surface is not an ellipsoid but an 'extremely streched Banana'\n",
    "2. The parameter's distribution should tend to zero bias and variance. However, in practise this happens extremely slowly as a function of sample size.\n",
    "\n",
    "First, we present a version of the model which saves the results between iterations:"
   ]
  },
  {
   "cell_type": "code",
   "execution_count": 77,
   "metadata": {},
   "outputs": [],
   "source": [
    "\n",
    "\n",
    "# EM-algorithm for a mixture cure model with beta distribution as a prior for pi\n",
    "# betapriorparams is a vector containing two parameters for the beta distribution\n",
    "cureEMprior <- function(params, D, betapriorparams = c(1,1)){\n",
    "  \n",
    "  if(all(D$time == Inf) | all(D$censored == 1)){\n",
    "    return(c(NA, 0))\n",
    "  }\n",
    "  \n",
    "  lambda_prev <- params[1]\n",
    "  pi_prev <- params[2]\n",
    "  \n",
    "  alpha <- betapriorparams[1]\n",
    "  beta <- betapriorparams[2]\n",
    "  \n",
    "  n <- length(D$time)\n",
    "  time_censored <- D$time[D$censored==1]\n",
    "  time_not_censored <- D$time[D$censored==0]\n",
    "  \n",
    "  # Everyone who purchased again, did it during the same day as the first purchase\n",
    "  if(all(time_not_censored == 0)){\n",
    "    return(c(NA, mean(1-D$censored)))\n",
    "  }\n",
    "  \n",
    "  # Precision of the result\n",
    "  eps <- 10^(-9)\n",
    "  continue <- TRUE\n",
    "  \n",
    "  estimates <- data.frame(lambda = lambda_prev, pi = pi_prev)\n",
    "  \n",
    "  while(continue){\n",
    "    \n",
    "    # Calculate the weights\n",
    "    D$weight[D$censored == 1] <- ifelse(time_censored == Inf, 0, \n",
    "                                        pi_prev*exp(-lambda_prev*time_censored) /\n",
    "                                          (1-pi_prev + pi_prev*exp(-lambda_prev*time_censored)))\n",
    "    D$weight[D$censored == 0] <- 1\n",
    "    \n",
    "    # Calculate the new values of the parameters\n",
    "    pi <- (sum(D$weight) + alpha-1)/(n + alpha+beta-2)\n",
    "    \n",
    "    lambda <- sum(D$weight[D$censored == 0])/\n",
    "      (sum(ifelse(time_censored == Inf, 0, D$weight[D$censored == 1]*time_censored)) +\n",
    "         sum(D$weight[D$censored == 0]*time_not_censored))\n",
    "    \n",
    "    # Did the algorithm converge yet? If not, update the values of the parameters\n",
    "    if(sqrt((pi_prev - pi)^2 + (lambda_prev - lambda)^2) < eps){\n",
    "      continue <- FALSE\n",
    "    }else{\n",
    "      lambda_prev <- lambda\n",
    "      pi_prev <- pi\n",
    "    }\n",
    "    estimates <- rbind(estimates, c(lambda_prev, pi_prev))\n",
    "  }\n",
    "\n",
    "  # result <- c(lambda, pi)\n",
    "  return(estimates)\n",
    "}"
   ]
  },
  {
   "cell_type": "code",
   "execution_count": 78,
   "metadata": {},
   "outputs": [],
   "source": [
    "# EM-algorithm for a mixture cure model with beta distribution as a prior \n",
    "cureEMprior <- function(params, D, betapriorparams = c(1,1)){\n",
    "  \n",
    "  if(all(D$censored == 1)){\n",
    "    return(c(lambda = NA, pi = 0.0))\n",
    "  }\n",
    "  \n",
    "  lambda_prev <- params[1]\n",
    "  pi_prev <- params[2]\n",
    "  \n",
    "  alpha <- betapriorparams[1]\n",
    "  beta <- betapriorparams[2]\n",
    "  \n",
    "  n <- length(D$time)\n",
    "  time_censored <- D$time[D$censored==1]\n",
    "  time_not_censored <- D$time[D$censored==0]\n",
    "  \n",
    "  # Precision of the result\n",
    "  eps <- 10^(-9)\n",
    "  continue <- TRUE\n",
    "\n",
    "  estimates <- data.frame(lambda = lambda_prev, pi = pi_prev)\n",
    "  \n",
    "  while(continue){\n",
    "    \n",
    "    # Calculate the weights\n",
    "    D$weight[D$censored == 1] <- ifelse(time_censored == Inf, 0, \n",
    "                                        pi_prev*exp(-lambda_prev*time_censored) /\n",
    "                                          (1-pi_prev + pi_prev*exp(-lambda_prev*time_censored)))\n",
    "    D$weight[D$censored == 0] <- 1\n",
    "    \n",
    "    # Calculate the new values of the parameters\n",
    "    pi <- (sum(D$weight) + alpha-1)/(n + alpha+beta-2)\n",
    "    \n",
    "    lambda <- sum(D$weight[D$censored == 0])/\n",
    "      (sum(ifelse(time_censored == Inf, 0, D$weight[D$censored == 1]*time_censored)) +\n",
    "         sum(D$weight[D$censored == 0]*time_not_censored))\n",
    "    \n",
    "    # Did the algorithm converge yet? If not, update the values of the parameters\n",
    "    if(sqrt((pi_prev - pi)^2 + (lambda_prev - lambda)^2) < eps){\n",
    "      continue <- FALSE\n",
    "    }else{\n",
    "      lambda_prev <- lambda\n",
    "      pi_prev <- pi\n",
    "    }\n",
    "    estimates <- rbind(estimates, c(lambda_prev, pi_prev))\n",
    "  }\n",
    "\n",
    "  return(estimates)\n",
    "}\n"
   ]
  },
  {
   "cell_type": "markdown",
   "metadata": {},
   "source": [
    "Lets generate some data:"
   ]
  },
  {
   "cell_type": "code",
   "execution_count": 96,
   "metadata": {},
   "outputs": [],
   "source": [
    "#set.seed(9863)\n",
    "testdata2 <- testdata_generate(n=100, start_max=1)\n",
    "testdata2 <- testdata_censor(testdata2, time_end=1)\n",
    "testdata2$weight <- 1\n",
    "testdata2$time <- ifelse(is.na(testdata2$time), testdata2$followup, testdata2$time)"
   ]
  },
  {
   "cell_type": "code",
   "execution_count": 97,
   "metadata": {},
   "outputs": [
    {
     "data": {
      "text/html": [
       "<table>\n",
       "<thead><tr><th></th><th scope=col>0</th><th scope=col>1</th><th scope=col>Sum</th></tr></thead>\n",
       "<tbody>\n",
       "\t<tr><th scope=row>0</th><td>2  </td><td> 3 </td><td>  5</td></tr>\n",
       "\t<tr><th scope=row>1</th><td>0  </td><td>95 </td><td> 95</td></tr>\n",
       "\t<tr><th scope=row>Sum</th><td>2  </td><td>98 </td><td>100</td></tr>\n",
       "</tbody>\n",
       "</table>\n"
      ],
      "text/latex": [
       "\\begin{tabular}{r|lll}\n",
       "  & 0 & 1 & Sum\\\\\n",
       "\\hline\n",
       "\t0 & 2   &  3  &   5\\\\\n",
       "\t1 & 0   & 95  &  95\\\\\n",
       "\tSum & 2   & 98  & 100\\\\\n",
       "\\end{tabular}\n"
      ],
      "text/markdown": [
       "\n",
       "| <!--/--> | 0 | 1 | Sum |\n",
       "|---|---|---|---|\n",
       "| 0 | 2   |  3  |   5 |\n",
       "| 1 | 0   | 95  |  95 |\n",
       "| Sum | 2   | 98  | 100 |\n",
       "\n"
      ],
      "text/plain": [
       "     censored\n",
       "cured 0 1  Sum\n",
       "  0   2  3   5\n",
       "  1   0 95  95\n",
       "  Sum 2 98 100"
      ]
     },
     "metadata": {},
     "output_type": "display_data"
    }
   ],
   "source": [
    "addmargins(table(testdata2[c('cured', 'censored')]))"
   ]
  },
  {
   "cell_type": "markdown",
   "metadata": {},
   "source": [
    "And fit the model with / without a prior:"
   ]
  },
  {
   "cell_type": "code",
   "execution_count": 103,
   "metadata": {},
   "outputs": [],
   "source": [
    "initial_guess <- c(0.5,0.5)\n",
    "estimates_all_iterations <- cureEMprior(initial_guess, testdata2)\n",
    "estimates_all_iterations_prior <- cureEMprior(initial_guess, testdata2, betapriorparams = c(2,20))"
   ]
  },
  {
   "cell_type": "markdown",
   "metadata": {},
   "source": [
    "The MLE without pseudo-observations or prior information thinks that 100% monetize with 0.04 monetization rate:"
   ]
  },
  {
   "cell_type": "code",
   "execution_count": 106,
   "metadata": {},
   "outputs": [
    {
     "data": {
      "text/html": [
       "<table>\n",
       "<thead><tr><th></th><th scope=col>lambda</th><th scope=col>pi</th></tr></thead>\n",
       "<tbody>\n",
       "\t<tr><th scope=row>83648</th><td>0.03960415</td><td>0.9999921 </td></tr>\n",
       "</tbody>\n",
       "</table>\n"
      ],
      "text/latex": [
       "\\begin{tabular}{r|ll}\n",
       "  & lambda & pi\\\\\n",
       "\\hline\n",
       "\t83648 & 0.03960415 & 0.9999921 \\\\\n",
       "\\end{tabular}\n"
      ],
      "text/markdown": [
       "\n",
       "| <!--/--> | lambda | pi |\n",
       "|---|---|---|\n",
       "| 83648 | 0.03960415 | 0.9999921  |\n",
       "\n"
      ],
      "text/plain": [
       "      lambda     pi       \n",
       "83648 0.03960415 0.9999921"
      ]
     },
     "metadata": {},
     "output_type": "display_data"
    }
   ],
   "source": [
    "tail(estimates_all_iterations, 1)"
   ]
  },
  {
   "cell_type": "markdown",
   "metadata": {},
   "source": [
    "The MAP with a Beta(2,20) prior with little additional information thinks that 6.4% monetize with 0.64 monetization rates:"
   ]
  },
  {
   "cell_type": "code",
   "execution_count": 107,
   "metadata": {},
   "outputs": [
    {
     "data": {
      "text/html": [
       "<table>\n",
       "<thead><tr><th></th><th scope=col>lambda</th><th scope=col>pi</th></tr></thead>\n",
       "<tbody>\n",
       "\t<tr><th scope=row>113</th><td>0.6406448 </td><td>0.06418861</td></tr>\n",
       "</tbody>\n",
       "</table>\n"
      ],
      "text/latex": [
       "\\begin{tabular}{r|ll}\n",
       "  & lambda & pi\\\\\n",
       "\\hline\n",
       "\t113 & 0.6406448  & 0.06418861\\\\\n",
       "\\end{tabular}\n"
      ],
      "text/markdown": [
       "\n",
       "| <!--/--> | lambda | pi |\n",
       "|---|---|---|\n",
       "| 113 | 0.6406448  | 0.06418861 |\n",
       "\n"
      ],
      "text/plain": [
       "    lambda    pi        \n",
       "113 0.6406448 0.06418861"
      ]
     },
     "metadata": {},
     "output_type": "display_data"
    }
   ],
   "source": [
    "tail(estimates_all_iterations_prior, 1)"
   ]
  },
  {
   "cell_type": "markdown",
   "metadata": {},
   "source": [
    "The following code calculates the likelihood of different combinations of $\\lambda, \\pi$:"
   ]
  },
  {
   "cell_type": "code",
   "execution_count": 99,
   "metadata": {},
   "outputs": [],
   "source": [
    "data <- testdata2\n",
    "loglikelihood_testi <- function(lambda, pi){\n",
    "    delta <- data$censored\n",
    "  t <- data$time\n",
    "  sum((1-delta)*(log(pi) + log(lambda) -lambda*t) + delta*(log(1-pi + pi*exp(-lambda*t))))\n",
    "}\n",
    "\n",
    "# Different values for parameters\n",
    "piit <- seq(0.00001,0.99999,length.out = 100)\n",
    "lambdat <- seq(0.00001,3.5,length.out = 350)\n",
    "params <- expand.grid(lambda = lambdat, pi = piit)\n",
    "\n",
    "# Likelihood function values with given parameters\n",
    "ll <- cbind(params, likelihood = apply(params, 1, function(i){loglikelihood_testi(i[1], i[2])}))\n"
   ]
  },
  {
   "cell_type": "markdown",
   "metadata": {},
   "source": [
    "We plot the likelihood surface and see how the models arrive at what they think are the most likely values:"
   ]
  },
  {
   "cell_type": "code",
   "execution_count": 105,
   "metadata": {},
   "outputs": [
    {
     "data": {
      "image/png": "[encoded data removed]",
      "text/plain": [
       "plot without title"
      ]
     },
     "metadata": {},
     "output_type": "display_data"
    }
   ],
   "source": [
    "ggplot() + \n",
    "  geom_contour(data = ll, aes(x = lambda, y = pi, z = likelihood), colour = \"grey\", binwidth = 1, size = 0.2) + \n",
    "  geom_path(data = estimates_all_iterations, aes(x = lambda, y = pi, col = \"1\"), size = 0.3) +\n",
    "  geom_path(data = estimates_all_iterations_prior, aes(x = lambda, y = pi, col = \"2\"), size = 0.3) +\n",
    "  scale_colour_manual(breaks = c(\"1\",\"2\"), labels = c(\"ML\", \"MAP\"), values = c(\"black\", \"blue\")) +\n",
    "  scale_fill_gradient2(low = \"#00BFC4\", mid = \"white\", high = \"#F8766D\", midpoint = -50) + \n",
    "  labs(x = \"Conversion rate\", y = \"Monetization percentage\", fill = \"Log-likelihood\", col = \"Type of the estimate\") + \n",
    "  coord_fixed(ratio = 3, expand = FALSE)"
   ]
  },
  {
   "cell_type": "markdown",
   "metadata": {},
   "source": [
    "From the data likelihood, it can be seen that many values are equally likely between two extremes ('The Banana'):\n",
    "1. 100% monetization percentage with 0.04 monetization rate\n",
    "2. 5% monetization percentage with 1.00 monetization rate\n",
    "\n",
    "This is quite surprising. The incorporation of prior information is essential, and even weak priors make the method produce useful results. However, these estimates vary a lot depending on the data set we get, so the method is not as robust as one might hope. This is not a problem with the method per se, but just a problem with the universe that implies a surprising fact: there are many equally likely explanations for a given data set."
   ]
  },
  {
   "cell_type": "code",
   "execution_count": null,
   "metadata": {},
   "outputs": [],
   "source": []
  }
 ],
 "metadata": {
  "kernelspec": {
   "display_name": "R",
   "language": "R",
   "name": "ir"
  },
  "language_info": {
   "codemirror_mode": "r",
   "file_extension": ".r",
   "mimetype": "text/x-r-source",
   "name": "R",
   "pygments_lexer": "r",
   "version": "3.6.1"
  }
 },
 "nbformat": 4,
 "nbformat_minor": 2
}
